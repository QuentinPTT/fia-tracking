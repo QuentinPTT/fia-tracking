{
 "cells": [
  {
   "cell_type": "code",
   "execution_count": 1,
   "metadata": {},
   "outputs": [],
   "source": [
    "from functools import partial\n",
    "import numpy as np\n",
    "import matplotlib.pyplot as plt\n",
    "from matplotlib.animation import FuncAnimation\n",
    "from functools import partial\n",
    "from matplotlib.patches import Circle\n",
    "%matplotlib qt"
   ]
  },
  {
   "cell_type": "code",
   "execution_count": 59,
   "metadata": {},
   "outputs": [
    {
     "name": "stderr",
     "output_type": "stream",
     "text": [
      "MovieWriter imagemagick unavailable; using Pillow instead.\n"
     ]
    }
   ],
   "source": [
    "\n",
    "fig, ax = plt.subplots(figsize=(6, 6))\n",
    "# Lignes pour les animations\n",
    "line1, = ax.plot([], [], 'ro')  # Points rouges\n",
    "line2, = ax.plot([], [], 'bo')  # Points bleus pour la droite y = x\n",
    "circles = []\n",
    "def init():\n",
    "    ax.set_xlim(-1, 3)\n",
    "    ax.set_ylim(-1, 3)\n",
    "    return line1, line2\n",
    "def update(frame, ln1, ln2, x1, y1, x2, y2):\n",
    "    x2.append(frame)\n",
    "    y2.append(frame)\n",
    "        \n",
    "    if len(x2) == 6:\n",
    "        x1.append(x1[-2])\n",
    "        y1.append(y1[-2])\n",
    "    elif len(x2) == 5:\n",
    "        x1.append(1)\n",
    "        y1.append(2.5)\n",
    "    elif len(x2) > 6:\n",
    "        x1.append(x1[-1])\n",
    "        y1.append(y1[-1])\n",
    "    else:\n",
    "        x1.append(frame+np.random.uniform(-0.2, 0.2))\n",
    "        y1.append(frame+np.random.uniform(-0.2, 0.2))\n",
    "    # Supprimer le cercle précédent\n",
    "    if len(circles) > 0:\n",
    "        circles[0].remove()\n",
    "        circles.pop(0)\n",
    "    \n",
    "    # Ajouter un cercle autour du nouveau point pour la première animation\n",
    "    circle = Circle((x1[-1], y1[-1]), 0.5, edgecolor='blue', facecolor='none', linestyle='dotted')\n",
    "    ax.add_patch(circle)\n",
    "    circles.append(circle)\n",
    "    \n",
    "    \n",
    "    ln1.set_data(x1, y1)\n",
    "    ln2.set_data(x2, y2)\n",
    "    return ln1, ln2\n",
    "ani = FuncAnimation(\n",
    "    fig, partial(update, ln1=line1, ln2=line2, x1=[], y1=[], x2=[], y2=[]),\n",
    "    frames=np.linspace(0, 3, 10),\n",
    "    init_func=init, blit=False, interval=2000)\n",
    "# savegif\n",
    "ani.save('test.gif', writer='imagemagick', fps=1)"
   ]
  }
 ],
 "metadata": {
  "kernelspec": {
   "display_name": "Python 3",
   "language": "python",
   "name": "python3"
  },
  "language_info": {
   "codemirror_mode": {
    "name": "ipython",
    "version": 3
   },
   "file_extension": ".py",
   "mimetype": "text/x-python",
   "name": "python",
   "nbconvert_exporter": "python",
   "pygments_lexer": "ipython3",
   "version": "3.11.3"
  }
 },
 "nbformat": 4,
 "nbformat_minor": 2
}
