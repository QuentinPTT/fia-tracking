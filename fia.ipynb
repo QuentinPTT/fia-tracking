{
 "cells": [
  {
   "cell_type": "markdown",
   "metadata": {},
   "source": [
    "Export txt into csv"
   ]
  },
  {
   "cell_type": "code",
   "execution_count": 2,
   "metadata": {},
   "outputs": [
    {
     "name": "stdout",
     "output_type": "stream",
     "text": [
      "Data exported in CSV\n"
     ]
    }
   ],
   "source": [
    "import csv\n",
    "\n",
    "data_imported = \"dynamic_B2_B1_O1_A1_A2_0\"\n",
    "\n",
    "# Read data from the text file\n",
    "with open('data/txt/'+data_imported+\".txt\", 'r') as file:\n",
    "    lines = file.readlines()\n",
    "\n",
    "# Process data\n",
    "data = []\n",
    "for line in lines:\n",
    "    if line.strip() and not line.startswith('*'):\n",
    "        parts = line.strip().split()\n",
    "        tracker = parts[0].strip(':')\n",
    "        id = parts[1]\n",
    "        x = parts[2]\n",
    "        y = parts[3]\n",
    "        z = parts[4]\n",
    "        timestamp = parts[5]\n",
    "        data.append([tracker, id, x, y, z, timestamp])\n",
    "\n",
    "# Write data to a CSV file\n",
    "with open('data/csv/'+data_imported+\".csv\", 'w', newline='') as csvfile:\n",
    "    csvwriter = csv.writer(csvfile)\n",
    "    csvwriter.writerow(['Tracker', 'ID', 'X', 'Y', 'Z', 'Timestamp'])\n",
    "    csvwriter.writerows(data)\n",
    "\n",
    "print(\"Data exported in CSV\")\n"
   ]
  },
  {
   "cell_type": "markdown",
   "metadata": {},
   "source": [
    "Librairies"
   ]
  },
  {
   "cell_type": "code",
   "execution_count": 19,
   "metadata": {},
   "outputs": [],
   "source": [
    "import pandas as pd\n",
    "import matplotlib.pyplot as plt\n",
    "import matplotlib.animation as animation\n",
    "import numpy as np\n",
    "from PIL import Image\n",
    "plt.switch_backend('Qt5Agg')"
   ]
  },
  {
   "cell_type": "markdown",
   "metadata": {},
   "source": [
    "Loading data and cleaning "
   ]
  },
  {
   "cell_type": "code",
   "execution_count": 7,
   "metadata": {},
   "outputs": [],
   "source": [
    "data = pd.read_csv(\"data/csv/\"+data_imported+\".csv\")\n",
    "data_n = data.drop(columns=[\"Tracker\", \"ID\"])"
   ]
  },
  {
   "cell_type": "markdown",
   "metadata": {},
   "source": [
    "Plot the raw Data in animation"
   ]
  },
  {
   "cell_type": "code",
   "execution_count": 8,
   "metadata": {},
   "outputs": [],
   "source": [
    "# Initialize the plot\n",
    "fig, ax = plt.subplots()\n",
    "line, = ax.plot([], [], 'ro-')\n",
    "\n",
    "# Set plot limits\n",
    "ax.set_xlim(min(data_n['X']) - 1, max(data_n['X']) + 1)\n",
    "ax.set_ylim(min(data_n['Y']) - 1, max(data_n['Y']) + 1)\n",
    "\n",
    "# Initialization function\n",
    "def init():\n",
    "    line.set_data([], [])\n",
    "    return line,\n",
    "\n",
    "# Animation function\n",
    "def animate(i):\n",
    "    x = data_n['X'][:i]\n",
    "    y = data_n['Y'][:i]\n",
    "    line.set_data(x, y)\n",
    "    return line,\n",
    "\n",
    "# Create the animation\n",
    "ani = animation.FuncAnimation(fig, animate, init_func=init, frames=data_n.shape[0], interval=200, blit=True)\n",
    "\n",
    "# Show the real point\n",
    "A1 = [1, 0]\n",
    "A2 = [1, 3.3]\n",
    "B1 = [5.5, 0]\n",
    "B2 = [5.5, 3.3]\n",
    "O1 = [3.5, 0]\n",
    "O2 = [3.5, 0.8]\n",
    "O3 = [3.5, 1.8]\n",
    "O4 = [3.5, 3.3]\n",
    "\n",
    "# make always on the top\n",
    "plt.scatter(A1[0], A1[1], c='b', label='A1', marker='x')\n",
    "plt.scatter(A2[0], A2[1], c='b', label='A2', marker='x')\n",
    "plt.scatter(B1[0], B1[1], c='b', label='B1', marker='x')\n",
    "plt.scatter(B2[0], B2[1], c='b', label='B2', marker='x')\n",
    "plt.scatter(O1[0], O1[1], c='b', label='O1', marker='x')\n",
    "plt.scatter(O2[0], O2[1], c='b', label='O2', marker='x')\n",
    "plt.scatter(O3[0], O3[1], c='b', label='O3', marker='x')\n",
    "plt.scatter(O4[0], O4[1], c='b', label='O4', marker='x')\n",
    "\n",
    "\n",
    "# Show the plot with animation\n",
    "plt.legend()\n",
    "plt.xlim(-1, 8)\n",
    "plt.ylim(-1, 6)\n",
    "plt.xlabel('X')\n",
    "plt.ylabel('Y')\n",
    "plt.title('Raw Data Plot')\n",
    "plt.show()"
   ]
  },
  {
   "cell_type": "code",
   "execution_count": 16,
   "metadata": {},
   "outputs": [],
   "source": [
    "# Define the EMA function\n",
    "def exponential_moving_average(data, alpha=0.33):\n",
    "    ema = [data[0]]\n",
    "    for value in data[1:]:\n",
    "        ema.append(alpha * value + (1 - alpha) * ema[-1])\n",
    "    return ema\n",
    "\n",
    "# Calculate EMA for the 'X' and 'Y' columns\n",
    "data_n['EMA_X'] = exponential_moving_average(data_n['X'])\n",
    "data_n['EMA_Y'] = exponential_moving_average(data_n['Y'])\n",
    "\n",
    "# Plot real-time data and EMA\n",
    "plt.figure(figsize=(14, 7))\n",
    "plt.plot(data_n[\"Timestamp\"], data_n[\"X\"], 'r-', label='X')\n",
    "plt.plot(data_n[\"Timestamp\"], data_n[\"EMA_X\"], 'b-', label='EMA_X')\n",
    "plt.plot(data_n[\"Timestamp\"], data_n[\"Y\"], 'g-', label='Y')\n",
    "plt.plot(data_n[\"Timestamp\"], data_n[\"EMA_Y\"], 'm-', label='EMA_Y')\n",
    "\n",
    "plt.xlabel('Timestamp')\n",
    "plt.ylabel('Values')\n",
    "plt.legend()\n",
    "plt.title('EMA')\n",
    "plt.xticks(rotation=45)\n",
    "plt.tight_layout()\n",
    "\n",
    "plt.show()"
   ]
  },
  {
   "cell_type": "code",
   "execution_count": 22,
   "metadata": {},
   "outputs": [],
   "source": [
    "# Initialize the plot\n",
    "fig, ax = plt.subplots()\n",
    "line_raw, = ax.plot([], [], 'ro-', label='Raw Data', alpha=0.5)\n",
    "line_ema, = ax.plot([], [], 'bo-', label='EMA', alpha=0.5)\n",
    "\n",
    "# Set plot limits\n",
    "ax.set_xlim(min(data_n['X']) - 1, max(data_n['X']) + 1)\n",
    "ax.set_ylim(min(data_n['Y']) - 1, max(data_n['Y']) + 1)\n",
    "\n",
    "ax.legend()\n",
    "\n",
    "# Show the real points\n",
    "A1 = [1, 0]\n",
    "A2 = [1, 3.3]\n",
    "B1 = [5.5, 0]\n",
    "B2 = [5.5, 3.3]\n",
    "O1 = [3.5, 0]\n",
    "O2 = [3.5, 0.8]\n",
    "O3 = [3.5, 1.8]\n",
    "O4 = [3.5, 3.3]\n",
    "\n",
    "# Make points always on top\n",
    "plt.scatter(A1[0], A1[1], c='b', label='A1', marker='x')\n",
    "plt.scatter(A2[0], A2[1], c='b', label='A2', marker='x')\n",
    "plt.scatter(B1[0], B1[1], c='b', label='B1', marker='x')\n",
    "plt.scatter(B2[0], B2[1], c='b', label='B2', marker='x')\n",
    "plt.scatter(O1[0], O1[1], c='b', label='O1', marker='x')\n",
    "plt.scatter(O2[0], O2[1], c='b', label='O2', marker='x')\n",
    "plt.scatter(O3[0], O3[1], c='b', label='O3', marker='x')\n",
    "plt.scatter(O4[0], O4[1], c='b', label='O4', marker='x')\n",
    "\n",
    "# Add text annotations\n",
    "texts = [\n",
    "    ax.text(A1[0]-0.1, A1[1], 'A1', fontsize=10, ha='right'),\n",
    "    ax.text(A2[0]-0.1, A2[1], 'A2', fontsize=10, ha='right'),\n",
    "    ax.text(B1[0]-0.1, B1[1], 'B1', fontsize=10, ha='right'),\n",
    "    ax.text(B2[0]-0.1, B2[1], 'B2', fontsize=10, ha='right'),\n",
    "    ax.text(O1[0]-0.1, O1[1], 'O1', fontsize=10, ha='right'),\n",
    "    ax.text(O2[0]-0.1, O2[1], 'O2', fontsize=10, ha='right'),\n",
    "    ax.text(O3[0]-0.1, O3[1], 'O3', fontsize=10, ha='right'),\n",
    "    ax.text(O4[0]-0.1, O4[1], 'O4', fontsize=10, ha='right')\n",
    "]\n",
    "\n",
    "# Initialization function\n",
    "def init():\n",
    "    line_raw.set_data([], [])\n",
    "    line_ema.set_data([], [])\n",
    "    return line_raw, line_ema\n",
    "\n",
    "# Animation function\n",
    "def animate(i):\n",
    "    x_raw = data_n['X'][:i]\n",
    "    y_raw = data_n['Y'][:i]\n",
    "    x_ema = data_n['EMA_X'][:i]\n",
    "    y_ema = data_n['EMA_Y'][:i]\n",
    "    line_raw.set_data(x_raw, y_raw)\n",
    "    line_ema.set_data(x_ema, y_ema)\n",
    "    for text in texts:\n",
    "        text.set_zorder(3)  # Ensure text stays on top\n",
    "    return line_raw, line_ema, *texts\n",
    "\n",
    "# Create the animation\n",
    "ani = animation.FuncAnimation(fig, animate, init_func=init, frames=data_n.shape[0], interval=200, blit=True)\n",
    "\n",
    "ani.save(\"data/gif/\"+data_imported+'.gif', writer='pillow', fps=5)\n",
    "\n",
    "# Show the plot with animation\n",
    "plt.xlim(-1, 8)\n",
    "plt.ylim(-1, 6)\n",
    "plt.xlabel('X')\n",
    "plt.ylabel('Y')\n",
    "plt.title('Raw Data and EMA Plot')\n",
    "plt.show()\n"
   ]
  }
 ],
 "metadata": {
  "kernelspec": {
   "display_name": "Python 3",
   "language": "python",
   "name": "python3"
  },
  "language_info": {
   "codemirror_mode": {
    "name": "ipython",
    "version": 3
   },
   "file_extension": ".py",
   "mimetype": "text/x-python",
   "name": "python",
   "nbconvert_exporter": "python",
   "pygments_lexer": "ipython3",
   "version": "3.12.0"
  }
 },
 "nbformat": 4,
 "nbformat_minor": 2
}
