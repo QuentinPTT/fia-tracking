{
 "cells": [
  {
   "cell_type": "markdown",
   "metadata": {},
   "source": [
    "**Library import**"
   ]
  },
  {
   "cell_type": "code",
   "execution_count": 2,
   "metadata": {},
   "outputs": [],
   "source": [
    "%matplotlib qt \n",
    "# Active l'affichage dynamique sur le notebook\n",
    "import csv\n",
    "import pandas as pd\n",
    "import matplotlib.pyplot as plt\n",
    "import numpy as np\n",
    "import keyboard # Pas sûr que vous ayez la librairie d'installer sur vos PC\n",
    "import time\n",
    "import math as m\n",
    "import random"
   ]
  },
  {
   "cell_type": "markdown",
   "metadata": {},
   "source": [
    "**Creation of dataframe from a text file converted into a CSV**"
   ]
  },
  {
   "cell_type": "code",
   "execution_count": 16,
   "metadata": {},
   "outputs": [
    {
     "name": "stdout",
     "output_type": "stream",
     "text": [
      "Data exported in CSV\n"
     ]
    }
   ],
   "source": [
    "# # Read data from the text file\n",
    "# with open('dynamic_B1_A2_0.txt', 'r') as file:\n",
    "#     lines = file.readlines()\n",
    "\n",
    "# # Process data\n",
    "# data = []\n",
    "# for line in lines:\n",
    "#     if line.strip() and not line.startswith('*'):\n",
    "#         parts = line.strip().split()\n",
    "#         tracker = parts[0].strip(':')\n",
    "#         id = parts[1]\n",
    "#         x = parts[2]\n",
    "#         y = parts[3]\n",
    "#         z = parts[4]\n",
    "#         timestamp = parts[5]\n",
    "#         data.append([tracker, id, x, y, z, timestamp])\n",
    "\n",
    "# # Write data to a CSV file\n",
    "# with open('output.csv', 'w', newline='') as csvfile:\n",
    "#     csvwriter = csv.writer(csvfile)\n",
    "#     csvwriter.writerow(['Tracker', 'ID', 'X', 'Y', 'Z', 'Timestamp'])\n",
    "#     csvwriter.writerows(data)\n",
    "\n",
    "# print(\"Data exported in CSV\")\n",
    "\n",
    "# data = pd.read_csv(\"output.csv\")\n",
    "# data_n = data.drop(columns=[\"Tracker\", \"ID\"])"
   ]
  },
  {
   "cell_type": "code",
   "execution_count": 4,
   "metadata": {},
   "outputs": [],
   "source": [
    "data = pd.read_csv(\"dynamic_B2_O5_A2_A1_O1_B1_B2_0_0.csv\")\n",
    "data_n = data.drop(columns=[\"Tracker\", \"ID\"])"
   ]
  },
  {
   "cell_type": "markdown",
   "metadata": {},
   "source": [
    "**Add disturbance in data**"
   ]
  },
  {
   "cell_type": "code",
   "execution_count": 48,
   "metadata": {},
   "outputs": [],
   "source": [
    "# We had some pertubation in data\n",
    "\n",
    "probability = 0.1\n",
    "masque = np.random.rand(len(data_n)) < probability\n",
    "probability2 = 0.5\n",
    "masque2 = np.random.rand(len(data_n)) < probability\n",
    "# Multiplie les valeurs de la colonne 'X' et 'Y' par 10 là où le masque est True\n",
    "data_n.loc[masque, 'X'] *= -2\n",
    "data_n.loc[masque, 'Y'] *= -2\n",
    "data_n.loc[masque, 'X'] *= 1.5\n",
    "data_n.loc[masque, 'Y'] *= 1.2"
   ]
  },
  {
   "cell_type": "code",
   "execution_count": null,
   "metadata": {},
   "outputs": [],
   "source": []
  },
  {
   "cell_type": "markdown",
   "metadata": {},
   "source": [
    "**Exclusive radius sorting**"
   ]
  },
  {
   "cell_type": "code",
   "execution_count": 93,
   "metadata": {},
   "outputs": [
    {
     "name": "stderr",
     "output_type": "stream",
     "text": [
      "C:\\ProgramData\\Anaconda3\\lib\\site-packages\\ipykernel_launcher.py:8: SettingWithCopyWarning: \n",
      "A value is trying to be set on a copy of a slice from a DataFrame\n",
      "\n",
      "See the caveats in the documentation: http://pandas.pydata.org/pandas-docs/stable/indexing.html#indexing-view-versus-copy\n",
      "  \n",
      "C:\\ProgramData\\Anaconda3\\lib\\site-packages\\ipykernel_launcher.py:9: SettingWithCopyWarning: \n",
      "A value is trying to be set on a copy of a slice from a DataFrame\n",
      "\n",
      "See the caveats in the documentation: http://pandas.pydata.org/pandas-docs/stable/indexing.html#indexing-view-versus-copy\n",
      "  if __name__ == '__main__':\n"
     ]
    }
   ],
   "source": [
    "def exclusive_radius(data_x,data_y,R=0.95):  # R en mètre\n",
    "    data_x_ = []\n",
    "    prec_ecart_x = 0\n",
    "    prec_ecart_y = 0\n",
    "    for i in range(1,len(data_x)):\n",
    "        if(i>3):\n",
    "            if m.sqrt((data_x[i]-data_x[i-1])**2+(data_y[i]-data_y[i-1])**2) > R:\n",
    "                data_x[i] = data_x[i-1] + prec_ecart_x\n",
    "                data_y[i] = data_y[i-1] + prec_ecart_y\n",
    "        if(i>1 and (m.sqrt((data_x[i]-data_x[i-1])**2+(data_y[i]-data_y[i-1])**2) <= R)):\n",
    "            prec_ecart_x = data_x[i]-data_x[i-1]\n",
    "            prec_ecart_y = data_y[i]-data_y[i-1]\n",
    "    return\n",
    "\n",
    "data_n_filtered = data_n.copy() # dataframe sans les valeurs \n",
    "\n",
    "exclusive_radius(data_n_filtered['X'],data_n_filtered['Y'])"
   ]
  },
  {
   "cell_type": "code",
   "execution_count": 7,
   "metadata": {},
   "outputs": [],
   "source": [
    "#print(data_n_filtered['X'],data_n_filtered['Y'])"
   ]
  },
  {
   "cell_type": "markdown",
   "metadata": {},
   "source": [
    "**EMA sorting**"
   ]
  },
  {
   "cell_type": "code",
   "execution_count": 94,
   "metadata": {},
   "outputs": [],
   "source": [
    "# Partie filtrage\n",
    "# Define the EMA function, if the velocity is high alpha should be close to 1\n",
    "def alpha_value(x1,x2,y1,y2):\n",
    "    velocity = m.sqrt((x2-x1)**2+(y2-y1)**2)/0.2\n",
    "    alpha = velocity/4.2\n",
    "    if alpha > 1:\n",
    "        return 1\n",
    "    elif alpha >= 0.05:\n",
    "        return alpha\n",
    "    else:    \n",
    "        return 0.05\n",
    "    \n",
    "    \n",
    "    \n",
    "def exponential_moving_average(data_1,data_2):\n",
    "    ema = [data_1[0]]\n",
    "    alpha = alpha_value(data_1[0],data_1[1],data_2[0],data_2[1])\n",
    "    for i in range(1,len(data_1)):\n",
    "        alpha = alpha_value(data_1[i-1],data_1[i],data_2[i-1],data_2[i])\n",
    "        ema.append(alpha * data_1[i] + (1 - alpha) * ema[-1])\n",
    "    return ema\n",
    "\n",
    "# Calculate EMA for the 'X' and 'Y' columns\n",
    "data_n_filtered['EMA_X'] = exponential_moving_average(data_n_filtered['X'],data_n_filtered['Y'])\n",
    "data_n_filtered['EMA_Y'] = exponential_moving_average(data_n_filtered['Y'],data_n_filtered['X'])"
   ]
  },
  {
   "cell_type": "markdown",
   "metadata": {},
   "source": [
    "**Displaying raw data**"
   ]
  },
  {
   "cell_type": "code",
   "execution_count": 95,
   "metadata": {},
   "outputs": [],
   "source": [
    "\n",
    "fig,ax= plt.subplots()\n",
    "line, = ax.plot([], [], 'ro-')\n",
    "\n",
    "# Set plot limits\n",
    "# ax.set_xlim(min(data_n['X']) - 1, max(data_n['X']) + 1)\n",
    "# ax.set_ylim(min(data_n['Y']) - 1, max(data_n['Y']) + 1)\n",
    "ax.set_xlim(-2,18)\n",
    "ax.set_ylim(-2,18)\n",
    "\n",
    "for i in range(data_n.shape[0]):\n",
    "    x = data_n['X'][i]\n",
    "    y = data_n['Y'][i]\n",
    "    plt.title('Raw Data Plot')\n",
    "    plt.scatter(x,y,color = 'red',s = 15)\n",
    "    plt.pause(0.0001)\n",
    "    if keyboard.is_pressed('q'):\n",
    "        plt.close()\n",
    "        break\n",
    "        \n",
    "plt.show()"
   ]
  },
  {
   "cell_type": "markdown",
   "metadata": {},
   "source": [
    "**Diplaying sorted data**"
   ]
  },
  {
   "cell_type": "code",
   "execution_count": 96,
   "metadata": {},
   "outputs": [],
   "source": [
    "# Animation function\n",
    "fig,ax= plt.subplots()\n",
    "line, = ax.plot([], [], 'ro-')\n",
    "\n",
    "# Set plot limits\n",
    "# ax.set_xlim(min(data_n['X']) - 1, max(data_n['X']) + 1)\n",
    "# ax.set_ylim(min(data_n['Y']) - 1, max(data_n['Y']) + 1)\n",
    "ax.set_xlim(-2,18)\n",
    "ax.set_ylim(-2,18)\n",
    "\n",
    "for i in range(data_n_filtered.shape[0]):\n",
    "    x_fil = data_n_filtered['X'][i]\n",
    "    y_fil = data_n_filtered['Y'][i]\n",
    "    #x_ema = data_n_filtered['EMA_X'][i]\n",
    "    #y_ema = data_n_filtered['EMA_Y'][i]\n",
    "    plt.title('sorted Data Plot')\n",
    "    plt.scatter(x_fil,y_fil, color = 'green', s = 10)\n",
    "    #plt.scatter(x_ema,y_ema, color = 'blue',s = 10)\n",
    "    plt.pause(0.0001)\n",
    "    if keyboard.is_pressed('q'):\n",
    "        plt.close()\n",
    "        break\n",
    "        \n",
    "plt.show()"
   ]
  },
  {
   "cell_type": "code",
   "execution_count": null,
   "metadata": {},
   "outputs": [],
   "source": []
  }
 ],
 "metadata": {
  "kernelspec": {
   "display_name": "Python 3",
   "language": "python",
   "name": "python3"
  },
  "language_info": {
   "codemirror_mode": {
    "name": "ipython",
    "version": 3
   },
   "file_extension": ".py",
   "mimetype": "text/x-python",
   "name": "python",
   "nbconvert_exporter": "python",
   "pygments_lexer": "ipython3",
   "version": "3.7.3"
  }
 },
 "nbformat": 4,
 "nbformat_minor": 2
}
